{
 "cells": [
  {
   "cell_type": "code",
   "execution_count": 7,
   "metadata": {},
   "outputs": [
    {
     "name": "stdout",
     "output_type": "stream",
     "text": [
      "29.0 2.7774602993176543 8 7\n",
      "-2.0367003088692623\n"
     ]
    }
   ],
   "source": [
    "import numpy as np\n",
    "\n",
    "mpgs = [30, 28, 32, 26, 33, 25, 28, 30]\n",
    "Xbar = np.mean(mpgs)\n",
    "s = np.std(mpgs, ddof=1) # sample std\n",
    "n = len(mpgs)\n",
    "df = n - 1\n",
    "\n",
    "print(Xbar, s, n, df)\n",
    "\n",
    "t_computed = (Xbar - 31) / (s / np.sqrt(n))\n",
    "print(t_computed)"
   ]
  },
  {
   "cell_type": "code",
   "execution_count": 8,
   "metadata": {},
   "outputs": [
    {
     "name": "stdout",
     "output_type": "stream",
     "text": [
      "-2.0367003088692623 0.0811068697473857\n"
     ]
    }
   ],
   "source": [
    "import scipy.stats as stats\n",
    "\n",
    "t_computed, p_value = stats.ttest_1samp(mpgs, 31)\n",
    "print(t_computed, p_value)"
   ]
  }
 ],
 "metadata": {
  "kernelspec": {
   "display_name": "Python 3",
   "language": "python",
   "name": "python3"
  },
  "language_info": {
   "codemirror_mode": {
    "name": "ipython",
    "version": 3
   },
   "file_extension": ".py",
   "mimetype": "text/x-python",
   "name": "python",
   "nbconvert_exporter": "python",
   "pygments_lexer": "ipython3",
   "version": "3.7.4"
  }
 },
 "nbformat": 4,
 "nbformat_minor": 4
}
