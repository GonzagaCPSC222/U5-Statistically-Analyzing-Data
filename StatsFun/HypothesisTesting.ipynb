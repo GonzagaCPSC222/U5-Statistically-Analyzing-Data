{
 "cells": [
  {
   "cell_type": "markdown",
   "metadata": {},
   "source": [
    "# One Sample t-test Example"
   ]
  },
  {
   "cell_type": "code",
   "execution_count": 1,
   "metadata": {},
   "outputs": [
    {
     "name": "stdout",
     "output_type": "stream",
     "text": [
      "29.0 2.7774602993176543 8 7\n",
      "-2.0367003088692623\n"
     ]
    }
   ],
   "source": [
    "import numpy as np\n",
    "\n",
    "mpgs = [30, 28, 32, 26, 33, 25, 28, 30]\n",
    "Xbar = np.mean(mpgs)\n",
    "s = np.std(mpgs, ddof=1) # sample std\n",
    "n = len(mpgs)\n",
    "df = n - 1\n",
    "\n",
    "print(Xbar, s, n, df)\n",
    "\n",
    "t_computed = (Xbar - 31) / (s / np.sqrt(n))\n",
    "print(t_computed)"
   ]
  },
  {
   "cell_type": "code",
   "execution_count": 2,
   "metadata": {},
   "outputs": [
    {
     "name": "stdout",
     "output_type": "stream",
     "text": [
      "-2.0367003088692623 0.0811068697473857\n"
     ]
    }
   ],
   "source": [
    "import scipy.stats as stats\n",
    "\n",
    "t_computed, p_value = stats.ttest_1samp(mpgs, 31)\n",
    "print(t_computed, p_value)"
   ]
  },
  {
   "cell_type": "markdown",
   "metadata": {},
   "source": [
    "## Two INDEPENDENT Sample t-test Example\n"
   ]
  },
  {
   "cell_type": "code",
   "execution_count": 7,
   "metadata": {},
   "outputs": [
    {
     "name": "stdout",
     "output_type": "stream",
     "text": [
      "136.1 75.4 3858.1833333333334\n",
      "2.1851550736735224\n"
     ]
    }
   ],
   "source": [
    "exp = [61, 102, 119, 128, 62, 158, 271, 57, 266, 137]\n",
    "cont = [24, 125, 43, 62, 32, 138, 53, 117, 97, 63]\n",
    "\n",
    "Xbar_exp = np.mean(exp)\n",
    "Xbar_cont = np.mean(cont)\n",
    "\n",
    "n_exp = len(exp)\n",
    "n_cont = len(cont)\n",
    "\n",
    "s_exp = np.std(exp, ddof=1)\n",
    "s_cont = np.std(cont, ddof=1)\n",
    "\n",
    "pooled_var = ((n_exp - 1) * s_exp ** 2 + (n_cont - 1) * s_cont ** 2) \\\n",
    "/ (n_exp + n_cont - 2)\n",
    "\n",
    "print(Xbar_exp, Xbar_cont, pooled_var)\n",
    "\n",
    "t_computed = (Xbar_exp - Xbar_cont) / np.sqrt(pooled_var * (1 / n_exp + 1 / n_cont))\n",
    "print(t_computed)"
   ]
  },
  {
   "cell_type": "code",
   "execution_count": 8,
   "metadata": {},
   "outputs": [
    {
     "name": "stdout",
     "output_type": "stream",
     "text": [
      "2.1851550736735232 0.02117066199247144\n"
     ]
    }
   ],
   "source": [
    "t_computed, p_val = stats.ttest_ind(exp, cont)\n",
    "print(t_computed, p_val / 2) # div by 2 because ttest_ind does a 2-tailed test"
   ]
  },
  {
   "cell_type": "markdown",
   "metadata": {},
   "source": [
    "## Two DEPENDENT Samples t-test Example"
   ]
  },
  {
   "cell_type": "code",
   "execution_count": 11,
   "metadata": {},
   "outputs": [
    {
     "name": "stdout",
     "output_type": "stream",
     "text": [
      "3.0\n",
      "2.208963121532172\n"
     ]
    }
   ],
   "source": [
    "before = np.array([45, 52, 34, 38, 47, 42, 61, 53, 52, 49])\n",
    "after = np.array([49, 56, 31, 46, 54, 39, 68, 55, 50, 55])\n",
    "\n",
    "n = len(before) # len(after)\n",
    "d = after - before \n",
    "dbar = d.sum() / n\n",
    "print(dbar)\n",
    "deviations = d - dbar\n",
    "deviations_squared = deviations ** 2\n",
    "\n",
    "Sd = np.sqrt(deviations_squared.sum() / (n - 1))\n",
    "Sdbar = Sd / np.sqrt(n)\n",
    "t_computed = dbar / Sdbar\n",
    "print(t_computed)"
   ]
  },
  {
   "cell_type": "code",
   "execution_count": 12,
   "metadata": {},
   "outputs": [
    {
     "name": "stdout",
     "output_type": "stream",
     "text": [
      "2.208963121532172 0.02726870763166227\n"
     ]
    }
   ],
   "source": [
    "# by default ttest_1samp(), ttest_ind(), ttest_rel()\n",
    "# all perform two-tailed tests\n",
    "# divide p_value by 2 to get the result for a one-tailed\n",
    "# test\n",
    "t_computed, p_val = stats.ttest_rel(after, before)\n",
    "print(t_computed, p_val / 2) # / 2 because one-tailed!!"
   ]
  },
  {
   "cell_type": "code",
   "execution_count": null,
   "metadata": {},
   "outputs": [],
   "source": []
  }
 ],
 "metadata": {
  "kernelspec": {
   "display_name": "Python 3",
   "language": "python",
   "name": "python3"
  },
  "language_info": {
   "codemirror_mode": {
    "name": "ipython",
    "version": 3
   },
   "file_extension": ".py",
   "mimetype": "text/x-python",
   "name": "python",
   "nbconvert_exporter": "python",
   "pygments_lexer": "ipython3",
   "version": "3.7.4"
  }
 },
 "nbformat": 4,
 "nbformat_minor": 4
}
