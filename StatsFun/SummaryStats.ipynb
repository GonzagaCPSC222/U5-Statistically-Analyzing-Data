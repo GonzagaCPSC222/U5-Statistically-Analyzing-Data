{
 "cells": [
  {
   "cell_type": "markdown",
   "metadata": {},
   "source": [
    "## Summary Stats\n",
    "recall: we said that instances are sampled from the \"universe of instances\"\n",
    "\n",
    "In stats... we say that a dataset is a sample from a population (\"universe of stances\")\n",
    "* dataset = sample\n",
    "* universe = population\n",
    "\n",
    "Example: \n",
    "* sample: CPSC 222 how many emails do you receive in October 2020\n",
    "* population: all college students nation wide (world wide)\n",
    "    * expensive (time and money)\n",
    "    \n",
    "## More Key Stats Terms\n",
    "* Parameter: any measurable characteristic of a population\n",
    "    * e.g. population mean\n",
    "* Statistic: any measurable characteristic of a sample\n",
    "    * e.g. sample mean\n",
    "* Descriptive statistics: organizing, summarizing, and presenting data in an informative way\n",
    "    * e.g. summary stats like central tendencies, charting, etc.\n",
    "* Inferential statistics: making inferences that go beyond known data\n",
    "    * e.g. infer something about a population based on a sample\n",
    "    * e.g. hypothesis testing, prediction with linear regression, machine learning, ... "
   ]
  },
  {
   "cell_type": "markdown",
   "metadata": {},
   "source": [
    "## Summary Stats\n",
    "A summary stat summarizes data into a single value or set of values\n",
    "\n",
    "Number of instances"
   ]
  },
  {
   "cell_type": "code",
   "execution_count": 1,
   "metadata": {},
   "outputs": [
    {
     "name": "stdout",
     "output_type": "stream",
     "text": [
      "number of instances: (6,) 6\n"
     ]
    }
   ],
   "source": [
    "import pandas as pd\n",
    "\n",
    "x = [8, 5, 4, 9, 8, 6]\n",
    "ser = pd.Series(x)\n",
    "\n",
    "print(\"number of instances:\", ser.shape, len(ser))"
   ]
  },
  {
   "cell_type": "markdown",
   "metadata": {},
   "source": [
    "Min/max (not on a nominal scale)"
   ]
  },
  {
   "cell_type": "code",
   "execution_count": 3,
   "metadata": {},
   "outputs": [
    {
     "name": "stdout",
     "output_type": "stream",
     "text": [
      "min: 4 max: 9\n"
     ]
    }
   ],
   "source": [
    "print(\"min:\", ser.min(), \"max:\", ser.max())"
   ]
  },
  {
   "cell_type": "markdown",
   "metadata": {},
   "source": [
    "### Central Tendency\n",
    "Central tendency represents the middle values of a data distribution\n",
    "\n",
    "Mid value ((min + max) / 2)"
   ]
  },
  {
   "cell_type": "code",
   "execution_count": 4,
   "metadata": {},
   "outputs": [
    {
     "name": "stdout",
     "output_type": "stream",
     "text": [
      "mid value: 6.5\n"
     ]
    }
   ],
   "source": [
    "print(\"mid value:\", (ser.min() + ser.max()) / 2)"
   ]
  },
  {
   "cell_type": "markdown",
   "metadata": {},
   "source": [
    "Arithmetic mean (average)\n",
    "* Sensitive to outliers (extreme)\n",
    "* Only makes for numeric (continuous) measurement scales"
   ]
  },
  {
   "cell_type": "code",
   "execution_count": 5,
   "metadata": {},
   "outputs": [
    {
     "name": "stdout",
     "output_type": "stream",
     "text": [
      "mean: 6.666666666666667\n"
     ]
    }
   ],
   "source": [
    "print(\"mean:\", ser.mean())"
   ]
  },
  {
   "cell_type": "markdown",
   "metadata": {},
   "source": [
    "Median (middle the value in a list of sorted values)\n",
    "* If the list has an even number of instances, the median is halfway between the two middle values"
   ]
  },
  {
   "cell_type": "code",
   "execution_count": 8,
   "metadata": {},
   "outputs": [
    {
     "name": "stdout",
     "output_type": "stream",
     "text": [
      "2    4\n",
      "1    5\n",
      "5    6\n",
      "0    8\n",
      "4    8\n",
      "3    9\n",
      "dtype: int64\n",
      "median: 7.0\n"
     ]
    }
   ],
   "source": [
    "print(ser.sort_values())\n",
    "print(\"median:\", ser.median())"
   ]
  },
  {
   "cell_type": "markdown",
   "metadata": {},
   "source": [
    "Mode (most frequently occurring value(s))"
   ]
  },
  {
   "cell_type": "code",
   "execution_count": 10,
   "metadata": {},
   "outputs": [
    {
     "name": "stdout",
     "output_type": "stream",
     "text": [
      "mode: 0    6\n",
      "1    8\n",
      "dtype: int64\n"
     ]
    }
   ],
   "source": [
    "x = [8, 5, 4, 9, 8, 6, 6]\n",
    "ser = pd.Series(x)\n",
    "print(\"mode:\", ser.mode())"
   ]
  },
  {
   "cell_type": "markdown",
   "metadata": {},
   "source": [
    "## Data Dispersion (Spread)\n",
    "Range (max - min)"
   ]
  },
  {
   "cell_type": "code",
   "execution_count": 11,
   "metadata": {},
   "outputs": [
    {
     "name": "stdout",
     "output_type": "stream",
     "text": [
      "5\n"
     ]
    }
   ],
   "source": [
    "print(ser.max() - ser.min())"
   ]
  },
  {
   "cell_type": "markdown",
   "metadata": {},
   "source": [
    "Quantiles (roughly equalized partitions of the data (in sorted order))\n",
    "* 2 quantiles - 1 data point that divides the dataset into 2 halves (AKA median)\n",
    "    "
   ]
  }
 ],
 "metadata": {
  "kernelspec": {
   "display_name": "Python 3",
   "language": "python",
   "name": "python3"
  },
  "language_info": {
   "codemirror_mode": {
    "name": "ipython",
    "version": 3
   },
   "file_extension": ".py",
   "mimetype": "text/x-python",
   "name": "python",
   "nbconvert_exporter": "python",
   "pygments_lexer": "ipython3",
   "version": "3.7.4"
  }
 },
 "nbformat": 4,
 "nbformat_minor": 4
}
