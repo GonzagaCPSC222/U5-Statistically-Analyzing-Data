{
 "cells": [
  {
   "cell_type": "markdown",
   "metadata": {},
   "source": [
    "## Summary Stats\n",
    "recall: we said that instances are sampled from the \"universe of instances\"\n",
    "\n",
    "In stats... we say that a dataset is a sample from a population (\"universe of stances\")\n",
    "* dataset = sample\n",
    "* universe = population\n",
    "\n",
    "Example: \n",
    "* sample: CPSC 222 how many emails do you receive in October 2020\n",
    "* population: all college students nation wide (world wide)\n",
    "    * expensive (time and money)\n",
    "    \n",
    "## More Key Stats Terms\n",
    "* Parameter: any measurable characteristic of a population\n",
    "    * e.g. population mean\n",
    "* Statistic: any measurable characteristic of a sample\n",
    "    * e.g. sample mean\n",
    "* Descriptive statistics: organizing, summarizing, and presenting data in an informative way\n",
    "    * e.g. summary stats like central tendencies, charting, etc.\n",
    "* Inferential statistics: making inferences that go beyond known data\n",
    "    * e.g. infer something about a population based on a sample\n",
    "    * e.g. hypothesis testing, prediction with linear regression, machine learning, ... "
   ]
  },
  {
   "cell_type": "markdown",
   "metadata": {},
   "source": [
    "## Summary Stats\n",
    "A summary stat summarizes data into a single value or set of values\n",
    "\n",
    "Number of instances"
   ]
  },
  {
   "cell_type": "code",
   "execution_count": 1,
   "metadata": {},
   "outputs": [
    {
     "name": "stdout",
     "output_type": "stream",
     "text": [
      "number of instances: (6,) 6\n"
     ]
    }
   ],
   "source": [
    "import pandas as pd\n",
    "\n",
    "x = [8, 5, 4, 9, 8, 6]\n",
    "ser = pd.Series(x)\n",
    "\n",
    "print(\"number of instances:\", ser.shape, len(ser))"
   ]
  },
  {
   "cell_type": "markdown",
   "metadata": {},
   "source": [
    "Min/max (not on a nominal scale)"
   ]
  },
  {
   "cell_type": "code",
   "execution_count": 2,
   "metadata": {},
   "outputs": [
    {
     "name": "stdout",
     "output_type": "stream",
     "text": [
      "min: 4 max: 9\n"
     ]
    }
   ],
   "source": [
    "print(\"min:\", ser.min(), \"max:\", ser.max())"
   ]
  },
  {
   "cell_type": "markdown",
   "metadata": {},
   "source": [
    "### Central Tendency\n",
    "Central tendency represents the middle values of a data distribution\n",
    "\n",
    "Mid value ((min + max) / 2)"
   ]
  },
  {
   "cell_type": "code",
   "execution_count": 3,
   "metadata": {},
   "outputs": [
    {
     "name": "stdout",
     "output_type": "stream",
     "text": [
      "mid value: 6.5\n"
     ]
    }
   ],
   "source": [
    "print(\"mid value:\", (ser.min() + ser.max()) / 2)"
   ]
  },
  {
   "cell_type": "markdown",
   "metadata": {},
   "source": [
    "Arithmetic mean (average)\n",
    "* Sensitive to outliers (extreme)\n",
    "* Only makes for numeric (continuous) measurement scales"
   ]
  },
  {
   "cell_type": "code",
   "execution_count": 4,
   "metadata": {},
   "outputs": [
    {
     "name": "stdout",
     "output_type": "stream",
     "text": [
      "mean: 6.666666666666667\n"
     ]
    }
   ],
   "source": [
    "print(\"mean:\", ser.mean())"
   ]
  },
  {
   "cell_type": "markdown",
   "metadata": {},
   "source": [
    "Median (middle the value in a list of sorted values)\n",
    "* If the list has an even number of instances, the median is halfway between the two middle values"
   ]
  },
  {
   "cell_type": "code",
   "execution_count": 5,
   "metadata": {},
   "outputs": [
    {
     "name": "stdout",
     "output_type": "stream",
     "text": [
      "2    4\n",
      "1    5\n",
      "5    6\n",
      "0    8\n",
      "4    8\n",
      "3    9\n",
      "dtype: int64\n",
      "median: 7.0\n"
     ]
    }
   ],
   "source": [
    "print(ser.sort_values())\n",
    "print(\"median:\", ser.median())"
   ]
  },
  {
   "cell_type": "markdown",
   "metadata": {},
   "source": [
    "Mode (most frequently occurring value(s))"
   ]
  },
  {
   "cell_type": "code",
   "execution_count": 6,
   "metadata": {},
   "outputs": [
    {
     "name": "stdout",
     "output_type": "stream",
     "text": [
      "mode: 0    6\n",
      "1    8\n",
      "dtype: int64\n"
     ]
    }
   ],
   "source": [
    "x = [8, 5, 4, 9, 8, 6, 6]\n",
    "ser = pd.Series(x)\n",
    "print(\"mode:\", ser.mode())"
   ]
  },
  {
   "cell_type": "markdown",
   "metadata": {},
   "source": [
    "## Data Dispersion (Spread)\n",
    "Range (max - min)"
   ]
  },
  {
   "cell_type": "code",
   "execution_count": 7,
   "metadata": {},
   "outputs": [
    {
     "name": "stdout",
     "output_type": "stream",
     "text": [
      "5\n"
     ]
    }
   ],
   "source": [
    "print(ser.max() - ser.min())"
   ]
  },
  {
   "cell_type": "markdown",
   "metadata": {},
   "source": [
    "Quantiles (roughly equalized partitions of the data (in sorted order))\n",
    "* 2 quantiles - 1 data point that divides the dataset into 2 halves (AKA median)\n",
    "* quartiles - 3 data points that divide the dataset into 4 quarters\n",
    "* percentiles - 99 data points that divide the dataset into 100 groups\n",
    "    * 25th percentile = 1st quartile\n",
    "    * 50th percentile = 2nd quartile = median\n",
    "    * 75th percentile = 3rd quartile\n",
    "* IQR (interquartile range) = 75th percentile - 25th percentile "
   ]
  },
  {
   "cell_type": "code",
   "execution_count": 10,
   "metadata": {},
   "outputs": [
    {
     "name": "stdout",
     "output_type": "stream",
     "text": [
      "2    4\n",
      "1    5\n",
      "5    6\n",
      "6    6\n",
      "0    8\n",
      "4    8\n",
      "3    9\n",
      "dtype: int64\n",
      "25th percentile: 0.25    5.5\n",
      "dtype: float64\n",
      "25th percentile (point in dataset): 5\n"
     ]
    }
   ],
   "source": [
    "print(ser.sort_values())\n",
    "print(\"25th percentile:\", ser.quantile([0.25]))\n",
    "# only use numbers in the dataset\n",
    "first_quartile_index = int(0.25 * len(ser))\n",
    "print(\"25th percentile (point in dataset):\", ser.iloc[first_quartile_index])"
   ]
  },
  {
   "cell_type": "markdown",
   "metadata": {},
   "source": [
    "## Box Plot Demo\n",
    "A box plot is a great visualization of spread in a dataset (or sets of datasets). "
   ]
  },
  {
   "cell_type": "code",
   "execution_count": 20,
   "metadata": {},
   "outputs": [
    {
     "data": {
      "image/png": "[encoded data removed]",
      "text/plain": [
       "<Figure size 432x288 with 1 Axes>"
      ]
     },
     "metadata": {
      "needs_background": "light"
     },
     "output_type": "display_data"
    }
   ],
   "source": [
    "import matplotlib.pyplot as plt\n",
    "import numpy as np\n",
    "\n",
    "mean = 100\n",
    "stdev = 25\n",
    "x1 = np.random.normal(mean, stdev, 1000)\n",
    "x2 = np.random.normal(mean, 5, 100)\n",
    "\n",
    "# median is the orange line in the middle of the box\n",
    "# IQR is the box\n",
    "# +/- 1.5 * IQR is the \"whiskers\" that extend from the box\n",
    "# outliers are displayed as the circles outside the whiskers\n",
    "\n",
    "plt.boxplot([x1, x2])\n",
    "plt.show()"
   ]
  },
  {
   "cell_type": "markdown",
   "metadata": {},
   "source": [
    "Variance (spread from the mean)\n",
    "* High variance means the data is spread out from the mean\n",
    "* Low variance means the data is clustered around the mean\n",
    "\n",
    "Standard deviation (square root of the variance)\n",
    "* Used more frequently for a few reasons...\n",
    "* It is in the same units as the mean"
   ]
  },
  {
   "cell_type": "code",
   "execution_count": 22,
   "metadata": {},
   "outputs": [
    {
     "name": "stdout",
     "output_type": "stream",
     "text": [
      "variance: 3.285714285714286\n",
      "standard deviation: 1.8126539343499315 1.8126539343499315\n"
     ]
    }
   ],
   "source": [
    "print(\"variance:\", ser.var())\n",
    "print(\"standard deviation:\", ser.std(), np.sqrt(ser.var()))"
   ]
  },
  {
   "cell_type": "markdown",
   "metadata": {},
   "source": [
    "## Histogram Demo\n",
    "How does the standard deviation affect the shape of a normal distribution?"
   ]
  },
  {
   "cell_type": "code",
   "execution_count": 53,
   "metadata": {},
   "outputs": [
    {
     "data": {
      "image/png": "[encoded data removed]",
      "text/plain": [
       "<Figure size 432x288 with 1 Axes>"
      ]
     },
     "metadata": {
      "needs_background": "light"
     },
     "output_type": "display_data"
    }
   ],
   "source": [
    "mean = 100\n",
    "stdev = 25\n",
    "num_samples = 1000\n",
    "x1 = np.random.normal(mean, stdev, num_samples)\n",
    "stdev = 5\n",
    "x2 = np.random.normal(mean, stdev, num_samples)\n",
    "\n",
    "plt.figure()\n",
    "plt.hist(x1, facecolor=\"blue\", label=\"std 25\")\n",
    "plt.hist(x2, facecolor=\"red\", label=\"std 5\")\n",
    "plt.legend()\n",
    "plt.show()"
   ]
  },
  {
   "cell_type": "markdown",
   "metadata": {},
   "source": [
    "## Empirical Rule for Normal Data\n",
    "* (about) 68% of the data is within +/- 1 standard deviation of the mean\n",
    "* (about) 95% of the data is within +/- 2 standard deviations of the mean\n",
    "* (about) 99.7% of the data is within +/- 3 standard deviations of the mean\n",
    "\n",
    "Let's \"prove\" this rule for our x1 dataset"
   ]
  },
  {
   "cell_type": "code",
   "execution_count": 54,
   "metadata": {},
   "outputs": [
    {
     "name": "stdout",
     "output_type": "stream",
     "text": [
      "+/- 1 stdev: 67.4 %\n",
      "+/- 2 stdev: 95.7 %\n",
      "+/- 3 stdev: 99.7 %\n"
     ]
    }
   ],
   "source": [
    "mean = 100\n",
    "stdev = 25\n",
    "num_samples = 1000\n",
    "x1 = np.random.normal(mean, stdev, num_samples)\n",
    "\n",
    "count_within_1stdev = 0\n",
    "count_within_2stdev = 0\n",
    "count_within_3stdev = 0\n",
    "\n",
    "for value in x1:\n",
    "    if mean - stdev <= value <= mean + stdev: # [mean - stdev, mean + stdev]\n",
    "        count_within_1stdev += 1\n",
    "    if mean - 2 * stdev <= value <= mean + 2 * stdev: # [mean - 2stdev, mean + 2stdev]\n",
    "        count_within_2stdev += 1\n",
    "    if mean - 3 * stdev <= value <= mean + 3 * stdev: # [mean - 3stdev, mean + 3stdev]\n",
    "        count_within_3stdev += 1\n",
    "        \n",
    "print(\"+/- 1 stdev:\", count_within_1stdev / num_samples * 100, \"%\")\n",
    "print(\"+/- 2 stdev:\", count_within_2stdev / num_samples * 100, \"%\")\n",
    "print(\"+/- 3 stdev:\", count_within_3stdev / num_samples * 100, \"%\")"
   ]
  },
  {
   "cell_type": "code",
   "execution_count": null,
   "metadata": {},
   "outputs": [],
   "source": []
  }
 ],
 "metadata": {
  "kernelspec": {
   "display_name": "Python 3",
   "language": "python",
   "name": "python3"
  },
  "language_info": {
   "codemirror_mode": {
    "name": "ipython",
    "version": 3
   },
   "file_extension": ".py",
   "mimetype": "text/x-python",
   "name": "python",
   "nbconvert_exporter": "python",
   "pygments_lexer": "ipython3",
   "version": "3.7.4"
  }
 },
 "nbformat": 4,
 "nbformat_minor": 4
}
