{
 "cells": [
  {
   "cell_type": "code",
   "execution_count": 16,
   "metadata": {},
   "outputs": [
    {
     "name": "stdout",
     "output_type": "stream",
     "text": [
      "Xbar: 8.983333333333333 s: 1.2904074996494381 n: 12 df: 11\n"
     ]
    }
   ],
   "source": [
    "import numpy as np\n",
    "\n",
    "x = [8.2, 9.1, 7.7, 8.6, 6.9, 11.2, 10.1, 9.9, 8.9, 9.2, 7.5, 10.5]\n",
    "\n",
    "Xbar = np.mean(x)\n",
    "s = np.std(x, ddof=1) # ddof=1 to compute sample std\n",
    "n = len(x)\n",
    "df = n - 1 \n",
    "\n",
    "print(\"Xbar:\", Xbar, \"s:\", s, \"n:\", n, \"df:\", df)"
   ]
  },
  {
   "cell_type": "code",
   "execution_count": 17,
   "metadata": {},
   "outputs": [
    {
     "name": "stdout",
     "output_type": "stream",
     "text": [
      "margin of error: 0.81989133757425\n"
     ]
    }
   ],
   "source": [
    "t = 2.201 # from t-table with df = 11 and 95% confi\n",
    "margin_of_error = t * s / np.sqrt(n)\n",
    "print(\"margin of error:\", margin_of_error)"
   ]
  },
  {
   "cell_type": "code",
   "execution_count": 18,
   "metadata": {},
   "outputs": [
    {
     "name": "stdout",
     "output_type": "stream",
     "text": [
      "(8.163441995759083, 9.803224670907582)\n"
     ]
    }
   ],
   "source": [
    "conf_interval = (Xbar - margin_of_error, Xbar + margin_of_error)\n",
    "print(conf_interval)\n",
    "# we are 95% confident that the \n",
    "# poplulation mean (# of hours slept) is in 8.16, 9.80"
   ]
  },
  {
   "cell_type": "code",
   "execution_count": 21,
   "metadata": {},
   "outputs": [
    {
     "data": {
      "image/png": "[encoded data removed]",
      "text/plain": [
       "<Figure size 432x288 with 1 Axes>"
      ]
     },
     "metadata": {
      "needs_background": "light"
     },
     "output_type": "display_data"
    }
   ],
   "source": [
    "#TODO: visualize our confidence interval with Matplotlib\n",
    "import matplotlib.pyplot as plt\n",
    "\n",
    "# here are two different ways \n",
    "plt.plot([1], [Xbar], color=\"blue\", marker=\"o\")\n",
    "plt.plot([1, 1], conf_interval, color=\"blue\")\n",
    "\n",
    "plt.show()"
   ]
  },
  {
   "cell_type": "code",
   "execution_count": 24,
   "metadata": {},
   "outputs": [
    {
     "data": {
      "image/png": "[encoded data removed]",
      "text/plain": [
       "<Figure size 432x288 with 1 Axes>"
      ]
     },
     "metadata": {
      "needs_background": "light"
     },
     "output_type": "display_data"
    }
   ],
   "source": [
    "plt.bar([1], [Xbar], yerr=margin_of_error)\n",
    "plt.xlim([0.0, 2.0])\n",
    "plt.show()"
   ]
  },
  {
   "cell_type": "code",
   "execution_count": 25,
   "metadata": {},
   "outputs": [
    {
     "name": "stdout",
     "output_type": "stream",
     "text": [
      "9.0 2.073644135332772 6 5\n"
     ]
    }
   ],
   "source": [
    "batteries = [8.0, 6.0, 10.5, 9.0, 8.5, 12.0] # in hours\n",
    "Xbar = np.mean(batteries)\n",
    "s = np.std(batteries, ddof=1)\n",
    "n = len(batteries)\n",
    "df = n - 1\n",
    "\n",
    "print(Xbar, s, n, df)"
   ]
  },
  {
   "cell_type": "code",
   "execution_count": 26,
   "metadata": {},
   "outputs": [
    {
     "name": "stdout",
     "output_type": "stream",
     "text": [
      "margin of error: 1.7058217716592396\n",
      "(7.29417822834076, 10.70582177165924)\n"
     ]
    }
   ],
   "source": [
    "t = 2.015 # from t table with df = 5 and confidence level 90%\n",
    "margin_of_error = t * s / np.sqrt(n)\n",
    "print(\"margin of error:\", margin_of_error)\n",
    "\n",
    "confidence_interval = (Xbar - margin_of_error, Xbar + margin_of_error)\n",
    "print(confidence_interval)\n",
    "\n",
    "# at the 90% confidence level the mean battery life for all phones in this population\n",
    "# is in 7.29 to 10.70 hours"
   ]
  }
 ],
 "metadata": {
  "kernelspec": {
   "display_name": "Python 3",
   "language": "python",
   "name": "python3"
  },
  "language_info": {
   "codemirror_mode": {
    "name": "ipython",
    "version": 3
   },
   "file_extension": ".py",
   "mimetype": "text/x-python",
   "name": "python",
   "nbconvert_exporter": "python",
   "pygments_lexer": "ipython3",
   "version": "3.7.4"
  }
 },
 "nbformat": 4,
 "nbformat_minor": 4
}
