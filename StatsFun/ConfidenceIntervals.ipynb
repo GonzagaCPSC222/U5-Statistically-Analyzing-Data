{
 "cells": [
  {
   "cell_type": "code",
   "execution_count": 2,
   "metadata": {},
   "outputs": [
    {
     "name": "stdout",
     "output_type": "stream",
     "text": [
      "Xbar: 8.983333333333333 s: 1.2904074996494381 n: 12 df: 11\n"
     ]
    }
   ],
   "source": [
    "import numpy as np\n",
    "\n",
    "x = [8.2, 9.1, 7.7, 8.6, 6.9, 11.2, 10.1, 9.9, 8.9, 9.2, 7.5, 10.5]\n",
    "\n",
    "Xbar = np.mean(x)\n",
    "s = np.std(x, ddof=1) # ddof=1 to compute sample std\n",
    "n = len(x)\n",
    "df = n - 1 \n",
    "\n",
    "print(\"Xbar:\", Xbar, \"s:\", s, \"n:\", n, \"df:\", df)"
   ]
  },
  {
   "cell_type": "code",
   "execution_count": 4,
   "metadata": {},
   "outputs": [
    {
     "name": "stdout",
     "output_type": "stream",
     "text": [
      "margin of error: 0.81989133757425\n"
     ]
    }
   ],
   "source": [
    "t = 2.201 # from t-table with df = 11 and 95% confi\n",
    "margin_of_error = t * s / np.sqrt(n)\n",
    "print(\"margin of error:\", margin_of_error)"
   ]
  },
  {
   "cell_type": "code",
   "execution_count": 5,
   "metadata": {},
   "outputs": [
    {
     "name": "stdout",
     "output_type": "stream",
     "text": [
      "(8.163441995759083, 9.803224670907582)\n"
     ]
    }
   ],
   "source": [
    "conf_interval = (Xbar - margin_of_error, Xbar + margin_of_error)\n",
    "print(conf_interval)\n",
    "# we are 95% confident that the \n",
    "# poplulation mean (# of hours slept) is in 8.16, 9.80"
   ]
  },
  {
   "cell_type": "code",
   "execution_count": null,
   "metadata": {},
   "outputs": [],
   "source": [
    "#TODO: visualize our confidence interval with Matplotlib"
   ]
  }
 ],
 "metadata": {
  "kernelspec": {
   "display_name": "Python 3",
   "language": "python",
   "name": "python3"
  },
  "language_info": {
   "codemirror_mode": {
    "name": "ipython",
    "version": 3
   },
   "file_extension": ".py",
   "mimetype": "text/x-python",
   "name": "python",
   "nbconvert_exporter": "python",
   "pygments_lexer": "ipython3",
   "version": "3.7.4"
  }
 },
 "nbformat": 4,
 "nbformat_minor": 4
}
