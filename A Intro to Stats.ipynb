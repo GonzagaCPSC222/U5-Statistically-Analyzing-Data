{
 "cells": [
  {
   "cell_type": "markdown",
   "metadata": {},
   "source": [
    "# [CPSC 222](https://github.com/GonzagaCPSC222) Intro to Data Science\n",
    "[Gonzaga University](https://www.gonzaga.edu/)\n",
    "\n",
    "[Gina Sprint](http://cs.gonzaga.edu/faculty/sprint/)\n",
    "\n",
    "# Intro to Stats\n",
    "What are our learning objectives for this lesson?\n",
    "* Learn terms related to statistics\n",
    "* Summarize data with simple statistics\n",
    "* Learn about the Z and t distributions\n",
    "\n",
    "Content used in this lesson is based upon information in the following sources:\n",
    "* Dr. Mirjeta Beqiri's Stats notes\n",
    "* Dr. Shawn Bowers' Data Mining notes\n",
    "* [Math is Fun](https://www.mathsisfun.com/data/standard-normal-distribution.html)\n",
    "* [JMP Statistical Discovery](https://www.jmp.com/en_us/statistics-knowledge-portal/t-test/t-distribution.html)"
   ]
  },
  {
   "cell_type": "markdown",
   "metadata": {},
   "source": [
    "## Warm-up Task(s) 10/23\n",
    "1. Any questions on Jupyter Notebook/Markdown/Latex/JSON?\n",
    "1. Create a new folder called StatsFun\n",
    "    1. Open this folder in Jupyter Lab\n",
    "    1. Create a new Notebook called SummaryStats.ipynb"
   ]
  },
  {
   "cell_type": "markdown",
   "metadata": {},
   "source": [
    "## Today 10/23\n",
    "* Attendance (I need to take in-person attendance)\n",
    "* Announcements\n",
    "    * Have a great 3-day weekend!!\n",
    "    * VQ7 due Sunday\n",
    "    * Work on DA5 (programming part and ethics part, ... we need to cover bit hypothesis testing (Monday/Wednesday next week) and intro to machine learning (VQ7)\n",
    "* Today\n",
    "    * DA5 overview\n",
    "    * Start stats\n",
    "    * Last ~15 mins of class IQ6"
   ]
  },
  {
   "cell_type": "markdown",
   "metadata": {},
   "source": [
    "## Warm-up Task(s) 10/28\n",
    "1. Open SummaryStats.ipynb"
   ]
  },
  {
   "cell_type": "markdown",
   "metadata": {},
   "source": [
    "## Today 10/28\n",
    "* Attendance (I need to take in-person attendance)\n",
    "* Announcements\n",
    "    * Great job on IQ6, average: 8.97!!\n",
    "    * DA5 is due ??\n",
    "* Today\n",
    "    * StatsFun"
   ]
  },
  {
   "cell_type": "markdown",
   "metadata": {},
   "source": [
    "## Introduction to Statistics\n",
    "When we learned about tabular data, we talked about how instances in a dataset are sampled from the \"universe of instances.\" The key here is we have a few observations (e.g. the instances), but not all observations (e.g. the universe). In the stats world, we would say our dataset is a \"sample\" of the \"population\", where the population is the universe of instances. \n",
    "\n",
    "### Example\n",
    "Let's take a look at an example. Suppose we want to find out how many emails a college student receives per day in September of this year. If we asked students in this class how many emails they received during September of this year, we would have a \"sample\". This sample is not representative of the entire population of college students. There are other classes at Gonzaga we did not sample and there are other universities besides Gonzaga. The population would consist of the number of emails **all** college students in the world received during September. It is typically very time consuming and expensive to collect data for an entire population, so we usually collect a sample, then try to draw statistical inferences about the population using the sample. Welcome to wonderful world of stats!! :) \n",
    "\n",
    "### Key Terms\n",
    "* Parameter: any measurable characteristic of a population (e.g. population mean)\n",
    "* Statistic: any measurable characteristic of a sample (e.g. sample mean)\n",
    "* Descriptive statistics: methods used to organize, summarize, and present data in an informative way\n",
    "    * e.g. summary statistics, measures of central tendency, charts, etc.\n",
    "* Inferential statistics: making inferences that go beyond the known data\n",
    "    * e.g. infer info about a population based on a sample, hypothesis testing, etc."
   ]
  },
  {
   "cell_type": "markdown",
   "metadata": {},
   "source": [
    "## Summary Statistics\n",
    "Summary statistics give (initial) insights into a sample (e.g. dataset) by summarizing the data into a single point. Examples of summary statistics include:\n",
    "1. Number of instances (how many rows)\n",
    "2. Min and max attribute values\n",
    "    * Q: Do these make sense for both categorical and continuous attributes?\n",
    "        * Ordinal, but not Nominal\n",
    "        * Much easier if numeric!\n",
    "        * Can only count number of each nominal value\n",
    "    * Q: What should be done with null (NA) values?\n",
    "        * Really, undefined / unknown\n",
    "        * In practice just ignore them\n",
    "3. Middle values of a distribution (aka \"Central Tendency\")\n",
    "    * Mid value: `(max + min) / 2.0` \n",
    "        * AKA \"Midrange\"\n",
    "    * (Arithmetic) Mean $\\bar{x} = (x_1 + x_2 + ... + x_n) / n$\n",
    "        * AKA average\n",
    "        * Python: `sum(column) / float(len(column))`\n",
    "        * Q: Problems with the mean? ... sensitive to extremes (e.g., outliers)\n",
    "        * Q: Make sense for categorical and continuous?\n",
    "            * only interval or ratio (same widths)\n",
    "    * Median\n",
    "        * The middle value in a set of sorted values\n",
    "        * If even number of values, halfway between the two middles\n",
    "        * Better measure for skewed data\n",
    "        * Can be expensive for large data sets (sorting!)\n",
    "    * Mode\n",
    "        * Value(s) that occurs most frequently\n",
    "        * Typically assume data is unimodal (one mode), e.g., normally distributed\n",
    "        * Q: How might we compute the mode in Python?\n",
    "4. Data Dispersion (Spread)\n",
    "    * Range (max - min)\n",
    "    * Quantiles: (Roughly) equal size partitions of data (if sorted from smallest to largest)\n",
    "        * \"2-quantiles\" is the data point that divides into two halves (AKA median)\n",
    "        * \"Quartiles\" is three data points that divide into four groups\n",
    "            * Used as part of box plots (see below)\n",
    "        * Interquartile range (IQR) is distance between 1st and 3rd quartiles\n",
    "        * \"Percentiles\" are 100-quantiles (100 groups)\n",
    "    * Variance and Standard Deviation\n",
    "        * Variance measures how spread out the data is (small implies data close to mean, large implies data spread out) $$\\frac{\\sum_{i=1}^{n}(x_i - \\bar{x})^2}{n}$$\n",
    "        * Standard Deviation is square root of variance\n",
    "            * Python: `numpy.std(vals)` "
   ]
  },
  {
   "cell_type": "markdown",
   "metadata": {},
   "source": [
    "### Box Plots for Displaying Data Dispersion"
   ]
  },
  {
   "cell_type": "code",
   "execution_count": 36,
   "metadata": {},
   "outputs": [
    {
     "data": {
      "image/png": "[encoded data removed]",
      "text/plain": [
       "<Figure size 432x288 with 1 Axes>"
      ]
     },
     "metadata": {
      "needs_background": "light"
     },
     "output_type": "display_data"
    }
   ],
   "source": [
    "# box plot demo\n",
    "import matplotlib.pyplot as plt\n",
    "\n",
    "mean = 100\n",
    "stdev = 5\n",
    "\n",
    "x1 = np.random.normal(mean, stdev, 1000)\n",
    "x2 = np.random.normal(mean, stdev, 100)\n",
    "plt.boxplot([x1, x2])\n",
    "plt.xticks([1, 2], [\"1000 samples\", \"100 samples\"])\n",
    "plt.show()"
   ]
  },
  {
   "cell_type": "markdown",
   "metadata": {},
   "source": [
    "Box plot explained:\n",
    "* The box is 1st and 3rd quantiles of data dispersion\n",
    "* The line in the box is the median (2nd quantile)\n",
    "* The whiskers are +/i 1.5 * IQR\n",
    "* Points/stars denote outliers"
   ]
  },
  {
   "cell_type": "markdown",
   "metadata": {},
   "source": [
    "## The Normal (Gaussian) Distribution\n",
    "Here is a great introduction the normal (AKA Gaussian) distribution from [Math is Fun](https://www.mathsisfun.com/data/standard-normal-distribution.html):\n",
    "![](https://github.com/GonzagaCPSC222/U5-Statistically-Analyzing-Data/raw/master/figures/intro_normal_distribution.png)\n",
    "    \n",
    "![](https://github.com/GonzagaCPSC222/U5-Statistically-Analyzing-Data/raw/master/figures/intro_empirical_rule.png)\n",
    "\n",
    "Empirical rule: for a normal (i.e., Gaussian) data distribution\n",
    "* About 68% of values are within 1 standard deviation of mean\n",
    "* About 95% of values are within 2 standard deviations\n",
    "* About 99.7% of values are within 3 standard deviations\n",
    "\n",
    "Let's use Numpy to sample some data from a normal distribution to see the empirical rule in action!"
   ]
  },
  {
   "cell_type": "code",
   "execution_count": 34,
   "metadata": {},
   "outputs": [
    {
     "data": {
      "image/png": "[encoded data removed]",
      "text/plain": [
       "<Figure size 432x288 with 1 Axes>"
      ]
     },
     "metadata": {
      "needs_background": "light"
     },
     "output_type": "display_data"
    },
    {
     "name": "stdout",
     "output_type": "stream",
     "text": [
      "Within +/1 stdev: 68.60%\n",
      "Within +/2 stdev: 96.20%\n",
      "Within +/3 stdev: 99.70%\n"
     ]
    }
   ],
   "source": [
    "import numpy as np\n",
    "import matplotlib.pyplot as plt\n",
    "\n",
    "# consistent values\n",
    "mean = 100\n",
    "num_samples = 1000\n",
    "\n",
    "# large variance, large standard deviation\n",
    "stdev = 25\n",
    "large_stdev = np.random.normal(mean, stdev, num_samples) # mean, stdev, num_samples\n",
    "plt.hist(large_stdev, bins=30, edgecolor=\"black\", facecolor=\"green\")\n",
    "\n",
    "# small variance, small standard deviation\n",
    "stdev = 5\n",
    "small_stdev = np.random.normal(mean, stdev, num_samples) # mean, stdev, num_samples\n",
    "plt.hist(small_stdev, bins=30, edgecolor=\"black\", facecolor=\"red\")\n",
    "plt.show()\n",
    "\n",
    "# test the empirical rule\n",
    "within_1stdev = 0\n",
    "within_2stdev = 0\n",
    "within_3stdev = 0\n",
    "\n",
    "for value in small_stdev:\n",
    "    if mean - 1 * stdev <= value <= mean + 1 * stdev:\n",
    "        within_1stdev += 1\n",
    "    if mean - 2 * stdev <= value <= mean + 2 * stdev:\n",
    "        within_2stdev += 1\n",
    "    if mean - 3 * stdev <= value <= mean + 3 * stdev:\n",
    "        within_3stdev += 1\n",
    "print(\"Within +/1 stdev: %.2f%%\" %(within_1stdev / num_samples * 100))\n",
    "print(\"Within +/2 stdev: %.2f%%\" %(within_2stdev / num_samples * 100))\n",
    "print(\"Within +/3 stdev: %.2f%%\" %(within_3stdev / num_samples * 100))"
   ]
  },
  {
   "cell_type": "markdown",
   "metadata": {},
   "source": [
    "## The t-distribution\n",
    "Here is a great introduction to the t-distribution from [JMP](https://www.jmp.com/en_us/statistics-knowledge-portal/t-test/t-distribution.html)\n",
    "\n",
    "![](https://github.com/GonzagaCPSC222/U5-Statistically-Analyzing-Data/raw/master/figures/intro_t_distribution.png)\n",
    "\n",
    "![](https://github.com/GonzagaCPSC222/U5-Statistically-Analyzing-Data/raw/master/figures/intro_t_distribution_graph.png)"
   ]
  }
 ],
 "metadata": {
  "anaconda-cloud": {},
  "kernelspec": {
   "display_name": "Python 3",
   "language": "python",
   "name": "python3"
  },
  "language_info": {
   "codemirror_mode": {
    "name": "ipython",
    "version": 3
   },
   "file_extension": ".py",
   "mimetype": "text/x-python",
   "name": "python",
   "nbconvert_exporter": "python",
   "pygments_lexer": "ipython3",
   "version": "3.7.6"
  }
 },
 "nbformat": 4,
 "nbformat_minor": 4
}
