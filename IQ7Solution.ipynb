{
 "cells": [
  {
   "cell_type": "markdown",
   "metadata": {},
   "source": [
    "## Standard Deviation of Differences Formula\n",
    "\n",
    "$$S_d = \\sqrt{\\frac{\\sum (d - \\overline{d})^2}{n - 1}}$$"
   ]
  },
  {
   "cell_type": "markdown",
   "metadata": {},
   "source": [
    "Solution: `$$S_d = \\sqrt{\\frac{\\sum (d - \\overline{d})^2}{n - 1}}$$`"
   ]
  },
  {
   "cell_type": "markdown",
   "metadata": {},
   "source": [
    "## Markdown Table \n",
    "\n",
    "BridgeId|State|Toll\n",
    "-|-|-\n",
    "111|4|0\n",
    "222|10|1\n",
    "333|2|0\n",
    "\n",
    "The above table has 3 attributes:\n",
    "1. **BridgeId**: the *primary key*\n",
    "1. **State**: the US state ID\n",
    "1. **Toll**: whether the bridge has a toll (1) or not (0)"
   ]
  },
  {
   "cell_type": "markdown",
   "metadata": {},
   "source": [
    "Solution:\n",
    "```\n",
    "BridgeId|State|Toll\n",
    "-|-|-\n",
    "111|4|0\n",
    "222|10|1\n",
    "333|2|0\n",
    "\n",
    "The above table has 3 attributes:\n",
    "1. **BridgeId**: the *primary key*\n",
    "1. **State**: the US state ID\n",
    "1. **Toll**: whether the bridge has a toll (1) or not (0)\n",
    "```"
   ]
  }
 ],
 "metadata": {
  "kernelspec": {
   "display_name": "Python 3",
   "language": "python",
   "name": "python3"
  },
  "language_info": {
   "codemirror_mode": {
    "name": "ipython",
    "version": 3
   },
   "file_extension": ".py",
   "mimetype": "text/x-python",
   "name": "python",
   "nbconvert_exporter": "python",
   "pygments_lexer": "ipython3",
   "version": "3.7.6"
  }
 },
 "nbformat": 4,
 "nbformat_minor": 4
}
