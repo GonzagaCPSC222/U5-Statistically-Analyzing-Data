{
 "cells": [
  {
   "cell_type": "markdown",
   "metadata": {},
   "source": [
    "# [CPSC 222](https://github.com/GonzagaCPSC222) Intro to Data Science\n",
    "[Gonzaga University](https://www.gonzaga.edu/)\n",
    "\n",
    "[Gina Sprint](http://cs.gonzaga.edu/faculty/sprint/)\n",
    "\n",
    "# Normal Distributions\n",
    "What are our learning objectives for this lesson?\n",
    "* Learn about the Z and t distributions\n",
    "* Compute confidence intervals for a population mean\n",
    "\n",
    "Content used in this lesson is based upon information in the following sources:\n",
    "* Dr. Mirjeta Beqiri's Stats notes\n",
    "* [Math is Fun](https://www.mathsisfun.com/data/standard-normal-distribution.html)\n",
    "* [JMP Statistical Discovery](https://www.jmp.com/en_us/statistics-knowledge-portal/t-test/t-distribution.html)"
   ]
  },
  {
   "cell_type": "markdown",
   "metadata": {},
   "source": [
    "## Warm-up Task(s)\n",
    "1. Open SummaryStats.ipynb"
   ]
  },
  {
   "cell_type": "markdown",
   "metadata": {},
   "source": [
    "## Today\n",
    "* Attendance (I need to take in-person attendance)\n",
    "* Announcements\n",
    "    * Great job on IQ6, average: 8.97!!\n",
    "    * DA5 is due ??\n",
    "* Today\n",
    "    * StatsFun"
   ]
  },
  {
   "cell_type": "markdown",
   "metadata": {},
   "source": [
    "## The Normal (Gaussian) Distribution\n",
    "Here is a great introduction the normal (AKA Gaussian) distribution from [Math is Fun](https://www.mathsisfun.com/data/standard-normal-distribution.html):\n",
    "\n",
    "![](https://github.com/GonzagaCPSC222/U5-Statistically-Analyzing-Data/raw/master/figures/intro_normal_distribution.png)\n",
    "    \n",
    "![](https://github.com/GonzagaCPSC222/U5-Statistically-Analyzing-Data/raw/master/figures/intro_empirical_rule.png)\n",
    "\n",
    "### Data Science Application: Empirical Rule\n",
    "The empirical rule for a normal (i.e., Gaussian) data distribution states that\"\n",
    "* About 68% of values are within 1 standard deviation of the mean\n",
    "* About 95% of values are within 2 standard deviations of the mean\n",
    "* About 99.7% of values are within 3 standard deviations of the mean\n",
    "\n",
    "This property of normal distributions is important because if we assume our sample is normal (and alot of data is normal), then we can estimate how likely it is to observe a certain value.\n",
    "\n",
    "Let's use Numpy to sample some data from a normal distribution to see the empirical rule in action!"
   ]
  },
  {
   "cell_type": "code",
   "execution_count": 34,
   "metadata": {},
   "outputs": [
    {
     "data": {
      "image/png": "[encoded data removed]",
      "text/plain": [
       "<Figure size 432x288 with 1 Axes>"
      ]
     },
     "metadata": {
      "needs_background": "light"
     },
     "output_type": "display_data"
    },
    {
     "name": "stdout",
     "output_type": "stream",
     "text": [
      "Within +/1 stdev: 68.60%\n",
      "Within +/2 stdev: 96.20%\n",
      "Within +/3 stdev: 99.70%\n"
     ]
    }
   ],
   "source": [
    "import numpy as np\n",
    "import matplotlib.pyplot as plt\n",
    "\n",
    "# consistent values\n",
    "mean = 100\n",
    "num_samples = 1000\n",
    "\n",
    "# large variance, large standard deviation\n",
    "stdev = 25\n",
    "large_stdev = np.random.normal(mean, stdev, num_samples) # mean, stdev, num_samples\n",
    "plt.hist(large_stdev, bins=30, edgecolor=\"black\", facecolor=\"green\")\n",
    "\n",
    "# small variance, small standard deviation\n",
    "stdev = 5\n",
    "small_stdev = np.random.normal(mean, stdev, num_samples) # mean, stdev, num_samples\n",
    "plt.hist(small_stdev, bins=30, edgecolor=\"black\", facecolor=\"red\")\n",
    "plt.show()\n",
    "\n",
    "# test the empirical rule\n",
    "within_1stdev = 0\n",
    "within_2stdev = 0\n",
    "within_3stdev = 0\n",
    "\n",
    "for value in small_stdev:\n",
    "    if mean - 1 * stdev <= value <= mean + 1 * stdev:\n",
    "        within_1stdev += 1\n",
    "    if mean - 2 * stdev <= value <= mean + 2 * stdev:\n",
    "        within_2stdev += 1\n",
    "    if mean - 3 * stdev <= value <= mean + 3 * stdev:\n",
    "        within_3stdev += 1\n",
    "print(\"Within +/1 stdev: %.2f%%\" %(within_1stdev / num_samples * 100))\n",
    "print(\"Within +/2 stdev: %.2f%%\" %(within_2stdev / num_samples * 100))\n",
    "print(\"Within +/3 stdev: %.2f%%\" %(within_3stdev / num_samples * 100))"
   ]
  },
  {
   "cell_type": "markdown",
   "metadata": {},
   "source": [
    "## The t-distribution\n",
    "Here is a great introduction to the t-distribution from [JMP](https://www.jmp.com/en_us/statistics-knowledge-portal/t-test/t-distribution.html)\n",
    "\n",
    "![](https://github.com/GonzagaCPSC222/U5-Statistically-Analyzing-Data/raw/master/figures/intro_t_distribution.png)\n",
    "\n",
    "![](https://github.com/GonzagaCPSC222/U5-Statistically-Analyzing-Data/raw/master/figures/intro_t_distribution_graph.png)"
   ]
  },
  {
   "cell_type": "markdown",
   "metadata": {},
   "source": [
    "## Confidence Intervals\n",
    "Here is a great introduction to confidence intervals from [Math is Fun](https://www.mathsisfun.com/data/confidence-interval.html):\n",
    "\n",
    "![](https://github.com/GonzagaCPSC222/U5-Statistically-Analyzing-Data/raw/master/figures/intro_confidence_interval.png)\n",
    "\n",
    "![](https://github.com/GonzagaCPSC222/U5-Statistically-Analyzing-Data/raw/master/figures/calculating_confidence_interval.png)\n",
    "\n",
    "Notice how the instructions above for calculating a confidence interval for a population mean using the Z distribution? This is appropriate if you have the population standard deviation, or if you have the sample standard deviation and your sample size (n) is at least 30 observations. If you have less than 30 observations, you can use the t-distribution instead. Here are the confidence interval formulas for both cases:\n",
    "* Population standard deviation or sample standard deviation w/30+ samples (use Z-value): $\\overline{X} \\pm Z \\frac{s}{\\sqrt{n}}$\n",
    "* Population standard deviation or sample standard deviation w/30+ samples (use t-value): $\\overline{X} \\pm t \\frac{s}{\\sqrt{n}}$\n",
    "\n",
    "To find the t-value associated with your margin of error, use the following t-table:\n",
    "![](https://media.cheggcdn.com/media/cb1/s675x1024/cb100490-5be7-4807-8972-c0d984f9e9fc/php3o1s6N.png)\n",
    "(image from https://media.cheggcdn.com/media/cb1/s675x1024/cb100490-5be7-4807-8972-c0d984f9e9fc/php3o1s6N.png)\n",
    "\n",
    "To use this table, you will need to compute the degrees of freedom (df = n - 1, where n is the number of observations in the sample) and the level of confidence for the confidence interval (e.g. see the small Z-table used in the example problem above)."
   ]
  },
  {
   "cell_type": "markdown",
   "metadata": {},
   "source": [
    "### Confidence Interval Example w/t-distribution\n",
    "Example (from [lumenlearning.com](https://courses.lumenlearning.com/introstats1/chapter/a-single-population-mean-using-the-student-t-distribution/)): \n",
    ">You do a study of hypnotherapy to determine how effective it is in increasing the number of hourse of sleep subjects get each night. You measure hours of sleep for 12 subjects with the following results. Construct a 95% confidence interval for the mean number of hours slept for the population (assumed normal) from which you took the data.\n",
    "8.2; 9.1; 7.7; 8.6; 6.9; 11.2; 10.1; 9.9; 8.9; 9.2; 7.5; 10.5\n",
    "\n",
    "First, identify your variables from the prompt and compute your t-value from the table (we want to use the t-distribution because we do not have the population mean and because we have a small sample size):"
   ]
  },
  {
   "cell_type": "code",
   "execution_count": 1,
   "metadata": {},
   "outputs": [
    {
     "name": "stdout",
     "output_type": "stream",
     "text": [
      "Xbar: 8.983333333333333 s: 1.2904074996494381 n: 12 df: 11\n"
     ]
    }
   ],
   "source": [
    "import numpy as np\n",
    "\n",
    "x = [8.2, 9.1, 7.7, 8.6, 6.9, 11.2, 10.1, 9.9, 8.9, 9.2, 7.5, 10.5]\n",
    "Xbar = np.mean(x)\n",
    "s = np.std(x, ddof=1) # to compute sample stdev, default is population\n",
    "n = len(x)\n",
    "df = n - 1\n",
    "print(\"Xbar:\", Xbar, \"s:\", s, \"n:\", n, \"df:\", df)"
   ]
  },
  {
   "cell_type": "markdown",
   "metadata": {},
   "source": [
    "Next, use the t-table to look up your t-value (df = 11, 95% confidence interval):"
   ]
  },
  {
   "cell_type": "code",
   "execution_count": 2,
   "metadata": {},
   "outputs": [
    {
     "name": "stdout",
     "output_type": "stream",
     "text": [
      "t: 2.201\n"
     ]
    }
   ],
   "source": [
    "t = 2.201 # from t-distribution table (use df and 95% CI)\n",
    "print(\"t:\", t)"
   ]
  },
  {
   "cell_type": "markdown",
   "metadata": {},
   "source": [
    "Then, compute your margin of error (what comes after the $\\pm$ term) to create your confidence interval:"
   ]
  },
  {
   "cell_type": "code",
   "execution_count": 44,
   "metadata": {},
   "outputs": [
    {
     "name": "stdout",
     "output_type": "stream",
     "text": [
      "confidence interval: (8.163441995759083, 9.803224670907582)\n"
     ]
    }
   ],
   "source": [
    "margin_of_error = t * s / np.sqrt(n)\n",
    "confidence_interval = (Xbar - margin_of_error, Xbar + margin_of_error)\n",
    "print(\"confidence interval:\", confidence_interval)"
   ]
  },
  {
   "cell_type": "markdown",
   "metadata": {},
   "source": [
    "This means that with 95% confidence, the population mean for this sample of data is within (8.16, 9.80).\n",
    "\n",
    "Lastly, I'll note that the examples in this lesson all computed a confidence interval for a population mean. You can create confidence intervals for other parameters as well!! In this class, we are going to just scratch the surface of what can be done with normal distributions by constructing confidence intervals for the mean and conducting hypothesis testing using mean(s). That's our next topic!!"
   ]
  }
 ],
 "metadata": {
  "anaconda-cloud": {},
  "kernelspec": {
   "display_name": "Python 3",
   "language": "python",
   "name": "python3"
  },
  "language_info": {
   "codemirror_mode": {
    "name": "ipython",
    "version": 3
   },
   "file_extension": ".py",
   "mimetype": "text/x-python",
   "name": "python",
   "nbconvert_exporter": "python",
   "pygments_lexer": "ipython3",
   "version": "3.7.6"
  }
 },
 "nbformat": 4,
 "nbformat_minor": 4
}
